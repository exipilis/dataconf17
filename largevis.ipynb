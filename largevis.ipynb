{
 "cells": [
  {
   "cell_type": "code",
   "execution_count": 1,
   "metadata": {
    "collapsed": true
   },
   "outputs": [],
   "source": [
    "# https://github.com/lferry007/LargeVis\n",
    "import numpy as np\n",
    "import json\n",
    "from sklearn import preprocessing\n",
    "from PIL import Image\n",
    "import os\n",
    "import LargeVis"
   ]
  },
  {
   "cell_type": "code",
   "execution_count": 2,
   "metadata": {
    "collapsed": true
   },
   "outputs": [],
   "source": [
    "dataset_path = 'dataset/'\n",
    "vectors_path = 'vectors/'\n",
    "thumbs_path = 'thumbs/'"
   ]
  },
  {
   "cell_type": "code",
   "execution_count": 3,
   "metadata": {
    "collapsed": true
   },
   "outputs": [],
   "source": [
    "with open('dataset.txt','r')as f:\n",
    "    dataset = f.readlines()\n",
    "dataset = [s.strip() for s in dataset]\n",
    "\n",
    "for fn in dataset:\n",
    "    if not os.path.isfile(thumbs_path + fn):\n",
    "        Image.open(dataset_path + fn).resize((64, 64)).save(thumbs_path + fn)"
   ]
  },
  {
   "cell_type": "code",
   "execution_count": 4,
   "metadata": {
    "collapsed": true
   },
   "outputs": [],
   "source": [
    "all_vectors = []\n",
    "for fn in dataset:\n",
    "    all_vectors.append(np.load(vectors_path + fn + '.npy'))\n",
    "\n",
    "all_vectors = np.array(all_vectors, dtype='float32')\n",
    "\n",
    "np.savetxt('vectors.txt', all_vectors, header='%s %s' % all_vectors.shape, fmt='%1.3f', comments='')"
   ]
  },
  {
   "cell_type": "code",
   "execution_count": 10,
   "metadata": {
    "collapsed": true
   },
   "outputs": [],
   "source": [
    "LargeVis.loadfile('vectors.txt')\n",
    "Y = LargeVis.run(3, 4, -1, -2, -1, -1, -1, -1, -1, -1)\n",
    "LargeVis.save('vectors3d.txt')"
   ]
  },
  {
   "cell_type": "code",
   "execution_count": 4,
   "metadata": {
    "collapsed": true
   },
   "outputs": [],
   "source": [
    "with open('vectors3d.txt') as f:\n",
    "    coords = f.readlines()\n",
    "coords = coords[1:]\n",
    "coords = [s.strip() for s in coords]"
   ]
  },
  {
   "cell_type": "code",
   "execution_count": 27,
   "metadata": {
    "collapsed": true
   },
   "outputs": [],
   "source": [
    "imgCoords = []\n",
    "\n",
    "for s in coords:\n",
    "    s = s.split()\n",
    "    imgCoords.append([float(x) for x in s])\n",
    "\n",
    "imgCoords = np.array(imgCoords)\n",
    "imgCoords = preprocessing.scale(imgCoords)"
   ]
  },
  {
   "cell_type": "code",
   "execution_count": 34,
   "metadata": {
    "collapsed": true
   },
   "outputs": [],
   "source": [
    "# random 5000\n",
    "import random\n",
    "idx = [i for i in range(len(dataset))]\n",
    "random.shuffle(idx)\n",
    "idx = idx[:5000]\n",
    "idx.sort()"
   ]
  },
  {
   "cell_type": "code",
   "execution_count": 35,
   "metadata": {
    "collapsed": true
   },
   "outputs": [],
   "source": [
    "imgCoords = np.array([imgCoords[i] for i in idx], dtype='float32')\n",
    "dataset = [dataset[i] for i in idx]"
   ]
  },
  {
   "cell_type": "code",
   "execution_count": 36,
   "metadata": {
    "collapsed": true
   },
   "outputs": [],
   "source": [
    "with open('visualization/points.js', 'w') as outfile:\n",
    "    out = 'POINTS =' + json.dumps(imgCoords.tolist())\n",
    "    outfile.write(out)\n",
    "\n",
    "words = []\n",
    "for fn in dataset:\n",
    "    words.append('../' + thumbs_path + fn)\n",
    "\n",
    "with open('visualization/words.js', 'wb') as outfile:\n",
    "    out = 'words =' + json.dumps(words)\n",
    "    outfile.write(out)"
   ]
  },
  {
   "cell_type": "code",
   "execution_count": null,
   "metadata": {
    "collapsed": true
   },
   "outputs": [],
   "source": []
  }
 ],
 "metadata": {
  "kernelspec": {
   "display_name": "Python 2",
   "language": "python",
   "name": "python2"
  },
  "language_info": {
   "codemirror_mode": {
    "name": "ipython",
    "version": 2
   },
   "file_extension": ".py",
   "mimetype": "text/x-python",
   "name": "python",
   "nbconvert_exporter": "python",
   "pygments_lexer": "ipython2",
   "version": "2.7.12"
  }
 },
 "nbformat": 4,
 "nbformat_minor": 2
}
