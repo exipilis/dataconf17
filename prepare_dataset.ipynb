{
 "cells": [
  {
   "cell_type": "code",
   "execution_count": 10,
   "metadata": {
    "collapsed": true
   },
   "outputs": [],
   "source": [
    "import os"
   ]
  },
  {
   "cell_type": "code",
   "execution_count": 11,
   "metadata": {
    "collapsed": true
   },
   "outputs": [],
   "source": [
    "dataset_path = 'dataset/'\n",
    "dataset_files = [os.path.join(root, f)\n",
    "                 for root, _, files in os.walk(dataset_path)\n",
    "                 for f in files if f.endswith('.jpg')]\n",
    "\n",
    "dataset_files = [s.replace(dataset_path, '') + '\\n' for s in dataset_files]\n",
    "\n",
    "dataset_files.sort()"
   ]
  },
  {
   "cell_type": "code",
   "execution_count": 12,
   "metadata": {},
   "outputs": [
    {
     "data": {
      "text/plain": [
       "['0_A_Line_or_Full/0.jpg\\n',\n",
       " '0_A_Line_or_Full/1.jpg\\n',\n",
       " '0_A_Line_or_Full/10.jpg\\n',\n",
       " '0_A_Line_or_Full/100.jpg\\n',\n",
       " '0_A_Line_or_Full/101.jpg\\n',\n",
       " '0_A_Line_or_Full/102.jpg\\n',\n",
       " '0_A_Line_or_Full/103.jpg\\n',\n",
       " '0_A_Line_or_Full/104.jpg\\n',\n",
       " '0_A_Line_or_Full/105.jpg\\n',\n",
       " '0_A_Line_or_Full/106.jpg\\n',\n",
       " '0_A_Line_or_Full/107.jpg\\n',\n",
       " '0_A_Line_or_Full/108.jpg\\n',\n",
       " '0_A_Line_or_Full/109.jpg\\n',\n",
       " '0_A_Line_or_Full/11.jpg\\n',\n",
       " '0_A_Line_or_Full/110.jpg\\n',\n",
       " '0_A_Line_or_Full/111.jpg\\n',\n",
       " '0_A_Line_or_Full/112.jpg\\n',\n",
       " '0_A_Line_or_Full/113.jpg\\n',\n",
       " '0_A_Line_or_Full/114.jpg\\n',\n",
       " '0_A_Line_or_Full/115.jpg\\n']"
      ]
     },
     "execution_count": 12,
     "metadata": {},
     "output_type": "execute_result"
    }
   ],
   "source": [
    "dataset_files[:20]"
   ]
  },
  {
   "cell_type": "code",
   "execution_count": 13,
   "metadata": {},
   "outputs": [],
   "source": [
    "with open('dataset.txt', 'w') as f:\n",
    "    f.writelines(dataset_files)"
   ]
  },
  {
   "cell_type": "code",
   "execution_count": 14,
   "metadata": {},
   "outputs": [
    {
     "data": {
      "text/plain": [
       "679688"
      ]
     },
     "execution_count": 14,
     "metadata": {},
     "output_type": "execute_result"
    }
   ],
   "source": [
    "len(dataset_files)"
   ]
  },
  {
   "cell_type": "code",
   "execution_count": null,
   "metadata": {
    "collapsed": true
   },
   "outputs": [],
   "source": []
  }
 ],
 "metadata": {
  "kernelspec": {
   "display_name": "Python 3",
   "language": "python",
   "name": "python3"
  },
  "language_info": {
   "codemirror_mode": {
    "name": "ipython",
    "version": 2
   },
   "file_extension": ".py",
   "mimetype": "text/x-python",
   "name": "python",
   "nbconvert_exporter": "python",
   "pygments_lexer": "ipython2",
   "version": "2.7.12"
  }
 },
 "nbformat": 4,
 "nbformat_minor": 2
}
