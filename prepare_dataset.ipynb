{
 "cells": [
  {
   "cell_type": "code",
   "execution_count": 42,
   "metadata": {
    "collapsed": true
   },
   "outputs": [],
   "source": [
    "import os\n",
    "from collections import defaultdict"
   ]
  },
  {
   "cell_type": "code",
   "execution_count": 45,
   "metadata": {
    "collapsed": true
   },
   "outputs": [],
   "source": [
    "dataset_path = 'dataset/'\n",
    "dataset_files = [os.path.join(root, f)\n",
    "                 for root, _, files in os.walk(dataset_path)\n",
    "                 for f in files if f.endswith('.jpg')]\n",
    "\n",
    "dataset_files = [s.replace(dataset_path, '') for s in dataset_files]"
   ]
  },
  {
   "cell_type": "code",
   "execution_count": 46,
   "metadata": {
    "collapsed": true
   },
   "outputs": [
    {
     "data": {
      "text/plain": [
       "['512_mebel_Home_furnishings_Key_and_Letter_Holders/408869.jpg',\n",
       " '512_mebel_Home_furnishings_Key_and_Letter_Holders/409349.jpg',\n",
       " '512_mebel_Home_furnishings_Key_and_Letter_Holders/409266.jpg',\n",
       " '512_mebel_Home_furnishings_Key_and_Letter_Holders/409149.jpg',\n",
       " '512_mebel_Home_furnishings_Key_and_Letter_Holders/409376.jpg',\n",
       " '512_mebel_Home_furnishings_Key_and_Letter_Holders/409585.jpg',\n",
       " '512_mebel_Home_furnishings_Key_and_Letter_Holders/409612.jpg',\n",
       " '512_mebel_Home_furnishings_Key_and_Letter_Holders/409032.jpg',\n",
       " '512_mebel_Home_furnishings_Key_and_Letter_Holders/409127.jpg',\n",
       " '512_mebel_Home_furnishings_Key_and_Letter_Holders/409159.jpg',\n",
       " '512_mebel_Home_furnishings_Key_and_Letter_Holders/409392.jpg',\n",
       " '512_mebel_Home_furnishings_Key_and_Letter_Holders/409092.jpg',\n",
       " '512_mebel_Home_furnishings_Key_and_Letter_Holders/409334.jpg',\n",
       " '512_mebel_Home_furnishings_Key_and_Letter_Holders/408867.jpg',\n",
       " '512_mebel_Home_furnishings_Key_and_Letter_Holders/409364.jpg',\n",
       " '512_mebel_Home_furnishings_Key_and_Letter_Holders/409034.jpg',\n",
       " '512_mebel_Home_furnishings_Key_and_Letter_Holders/408871.jpg',\n",
       " '512_mebel_Home_furnishings_Key_and_Letter_Holders/409089.jpg',\n",
       " '512_mebel_Home_furnishings_Key_and_Letter_Holders/409329.jpg',\n",
       " '512_mebel_Home_furnishings_Key_and_Letter_Holders/409577.jpg']"
      ]
     },
     "execution_count": 46,
     "metadata": {},
     "output_type": "execute_result"
    }
   ],
   "source": [
    "dataset_files[:20]"
   ]
  },
  {
   "cell_type": "code",
   "execution_count": 47,
   "metadata": {},
   "outputs": [],
   "source": [
    "cat_counts = defaultdict(int)\n",
    "\n",
    "for fn in dataset_files:\n",
    "    c = fn.split('/')[0]\n",
    "    cat_counts[c] += 1\n",
    "\n",
    "cat_counts = cat_counts.items()\n",
    "cat_counts.sort(key=lambda x: -x[1])"
   ]
  },
  {
   "cell_type": "code",
   "execution_count": 48,
   "metadata": {},
   "outputs": [],
   "source": [
    "categories = [item[0] for item in cat_counts[:112]]"
   ]
  },
  {
   "cell_type": "code",
   "execution_count": 49,
   "metadata": {
    "collapsed": true
   },
   "outputs": [],
   "source": [
    "dataset_files = []\n",
    "for c in categories:\n",
    "    cat_files = os.listdir(dataset_path + c)\n",
    "    dataset_files += [c + '/' + fn + '\\n' for fn in cat_files]"
   ]
  },
  {
   "cell_type": "code",
   "execution_count": 50,
   "metadata": {},
   "outputs": [],
   "source": [
    "with open('dataset.txt', 'w') as f:\n",
    "    f.writelines(dataset_files)"
   ]
  },
  {
   "cell_type": "code",
   "execution_count": 51,
   "metadata": {},
   "outputs": [
    {
     "data": {
      "text/plain": [
       "100800"
      ]
     },
     "execution_count": 51,
     "metadata": {},
     "output_type": "execute_result"
    }
   ],
   "source": [
    "len(dataset_files)"
   ]
  },
  {
   "cell_type": "code",
   "execution_count": null,
   "metadata": {
    "collapsed": true
   },
   "outputs": [],
   "source": []
  }
 ],
 "metadata": {
  "kernelspec": {
   "display_name": "Python 3",
   "language": "python",
   "name": "python3"
  },
  "language_info": {
   "codemirror_mode": {
    "name": "ipython",
    "version": 2
   },
   "file_extension": ".py",
   "mimetype": "text/x-python",
   "name": "python",
   "nbconvert_exporter": "python",
   "pygments_lexer": "ipython2",
   "version": "2.7.12"
  }
 },
 "nbformat": 4,
 "nbformat_minor": 2
}
