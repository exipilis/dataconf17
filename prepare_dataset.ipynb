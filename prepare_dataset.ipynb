{
 "cells": [
  {
   "cell_type": "code",
   "execution_count": 8,
   "metadata": {
    "collapsed": true
   },
   "outputs": [],
   "source": [
    "import os"
   ]
  },
  {
   "cell_type": "code",
   "execution_count": 9,
   "metadata": {
    "collapsed": true
   },
   "outputs": [],
   "source": [
    "dataset_path = 'dataset/'\n",
    "dataset_files = [os.path.join(root, f)\n",
    "                 for root, _, files in os.walk(dataset_path)\n",
    "                 for f in files if f.endswith('.jpg')]\n",
    "dataset_files.sort()"
   ]
  },
  {
   "cell_type": "code",
   "execution_count": 10,
   "metadata": {
    "collapsed": true
   },
   "outputs": [
    {
     "data": {
      "text/plain": [
       "['dataset/0_A_Line_or_Full/0.jpg',\n",
       " 'dataset/0_A_Line_or_Full/1.jpg',\n",
       " 'dataset/0_A_Line_or_Full/10.jpg',\n",
       " 'dataset/0_A_Line_or_Full/100.jpg',\n",
       " 'dataset/0_A_Line_or_Full/101.jpg',\n",
       " 'dataset/0_A_Line_or_Full/102.jpg',\n",
       " 'dataset/0_A_Line_or_Full/103.jpg',\n",
       " 'dataset/0_A_Line_or_Full/104.jpg',\n",
       " 'dataset/0_A_Line_or_Full/105.jpg',\n",
       " 'dataset/0_A_Line_or_Full/106.jpg',\n",
       " 'dataset/0_A_Line_or_Full/107.jpg',\n",
       " 'dataset/0_A_Line_or_Full/108.jpg',\n",
       " 'dataset/0_A_Line_or_Full/109.jpg',\n",
       " 'dataset/0_A_Line_or_Full/11.jpg',\n",
       " 'dataset/0_A_Line_or_Full/110.jpg',\n",
       " 'dataset/0_A_Line_or_Full/111.jpg',\n",
       " 'dataset/0_A_Line_or_Full/112.jpg',\n",
       " 'dataset/0_A_Line_or_Full/113.jpg',\n",
       " 'dataset/0_A_Line_or_Full/114.jpg',\n",
       " 'dataset/0_A_Line_or_Full/115.jpg']"
      ]
     },
     "execution_count": 10,
     "metadata": {},
     "output_type": "execute_result"
    }
   ],
   "source": [
    "dataset_files[:20]"
   ]
  },
  {
   "cell_type": "code",
   "execution_count": 11,
   "metadata": {
    "collapsed": true
   },
   "outputs": [],
   "source": [
    "dataset = [s.split('/')[1].split('_')[0] + ' ' + s + '\\n' for s in dataset_files]"
   ]
  },
  {
   "cell_type": "code",
   "execution_count": 5,
   "metadata": {
    "collapsed": true
   },
   "outputs": [
    {
     "data": {
      "text/plain": [
       "['809 dataset/809_sport_rest_Swimwear_&_Safety/653767.jpg\\n',\n",
       " '751 dataset/751_sport_rest_Fishing_Nets/603145.jpg\\n',\n",
       " '498 dataset/498_mebel_Home_furnishings_D\\xc3\\xa9cor_Bottles/396647.jpg\\n',\n",
       " '118 dataset/118_French_bulldog/96036.jpg\\n',\n",
       " '393 dataset/393_cigar_lighter/318614.jpg\\n',\n",
       " '37 dataset/37_Bait_decoy_lure/31044.jpg\\n',\n",
       " '406 dataset/406_dachshund_dachsie_badger_dog/328193.jpg\\n',\n",
       " '585 dataset/585_music_instrument_Mandolin/468758.jpg\\n',\n",
       " '340 dataset/340_bustard/273694.jpg\\n',\n",
       " '397 dataset/397_cocker_spaniel_English_cocker_spaniel_cocker/321136.jpg\\n',\n",
       " '161 dataset/161_Irish_setter_red_setter/132151.jpg\\n',\n",
       " '574 dataset/574_music_instrument_Dj_Equipment/459037.jpg\\n',\n",
       " '309 dataset/309_Tibetan_mastiff/250869.jpg\\n',\n",
       " '825 dataset/825_swan/666335.jpg\\n',\n",
       " '514 dataset/514_mebel_Home_furnishings_Picture_Frames/411173.jpg\\n',\n",
       " '831 dataset/831_toy_poodle/670110.jpg\\n',\n",
       " '593 dataset/593_music_instrument_Trumpets/475732.jpg\\n',\n",
       " '12 dataset/12_Accessories_mobile_phone_Memory_Cards/10482.jpg\\n',\n",
       " '574 dataset/574_music_instrument_Dj_Equipment/459758.jpg\\n',\n",
       " '652 dataset/652_spares_Leaf_Springs/520158.jpg\\n']"
      ]
     },
     "execution_count": 5,
     "metadata": {},
     "output_type": "execute_result"
    }
   ],
   "source": [
    "dataset[:20]"
   ]
  },
  {
   "cell_type": "code",
   "execution_count": 12,
   "metadata": {
    "collapsed": true
   },
   "outputs": [],
   "source": [
    "with open('dataset.txt', 'w') as f:\n",
    "    f.writelines(dataset)"
   ]
  },
  {
   "cell_type": "code",
   "execution_count": 13,
   "metadata": {},
   "outputs": [
    {
     "data": {
      "text/plain": [
       "679688"
      ]
     },
     "execution_count": 13,
     "metadata": {},
     "output_type": "execute_result"
    }
   ],
   "source": [
    "len(dataset)"
   ]
  },
  {
   "cell_type": "code",
   "execution_count": null,
   "metadata": {
    "collapsed": true
   },
   "outputs": [],
   "source": []
  }
 ],
 "metadata": {
  "kernelspec": {
   "display_name": "Python 3",
   "language": "python",
   "name": "python3"
  },
  "language_info": {
   "codemirror_mode": {
    "name": "ipython",
    "version": 2
   },
   "file_extension": ".py",
   "mimetype": "text/x-python",
   "name": "python",
   "nbconvert_exporter": "python",
   "pygments_lexer": "ipython2",
   "version": "2.7.12"
  }
 },
 "nbformat": 4,
 "nbformat_minor": 2
}
